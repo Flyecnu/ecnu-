{
 "cells": [
  {
   "attachments": {},
   "cell_type": "markdown",
   "id": "0ab5b0dc-0a01-461f-b781-c677e1f7ec8d",
   "metadata": {},
   "source": [
    "## 获取新闻标题"
   ]
  },
  {
   "cell_type": "code",
   "execution_count": 6,
   "id": "5937ab65-69a3-483c-9b52-9979a00ef8ca",
   "metadata": {},
   "outputs": [
    {
     "name": "stdout",
     "output_type": "stream",
     "text": [
      "['6551700932705387022', '101', 'news_culture', '京城最值得你来场文化之旅的博物馆', '保利集团,马未都,中国科学技术馆,博物馆,新中国\\n']\n",
      "yes\n"
     ]
    }
   ],
   "source": [
    "f=open('Data/toutiao_cat_data.txt',encoding='UTF-8')\n",
    "m=f.readline()\n",
    "m=m.split(\"_!_\")\n",
    "print(m)\n",
    "\n",
    "if m[1]=='101':\n",
    "    print(\"yes\")"
   ]
  },
  {
   "cell_type": "code",
   "execution_count": 9,
   "id": "e74a70e6-951c-4783-918b-32fbf2d3f94c",
   "metadata": {},
   "outputs": [],
   "source": [
    "f=open('Data/toutiao_cat_data.txt',encoding='UTF-8')\n",
    "\n",
    "all_news=f.readlines()\n",
    "\n",
    "f_0=open('Data/data_new/0.txt',\"a+\",encoding='UTF-8')\n",
    "f_1=open('Data/data_new/1.txt',\"a+\",encoding='UTF-8')\n",
    "f_2=open('Data/data_new/2.txt',\"a+\",encoding='UTF-8')\n",
    "f_3=open('Data/data_new/3.txt',\"a+\",encoding='UTF-8')\n",
    "f_4=open('Data/data_new/4.txt',\"a+\",encoding='UTF-8')\n",
    "f_5=open('Data/data_new/5.txt',\"a+\",encoding='UTF-8')\n",
    "f_6=open('Data/data_new/6.txt',\"a+\",encoding='UTF-8')\n",
    "f_7=open('Data/data_new/7.txt',\"a+\",encoding='UTF-8')\n",
    "f_8=open('Data/data_new/8.txt',\"a+\",encoding='UTF-8')\n",
    "\n",
    "for new in all_news:\n",
    "    new=new.strip('\\n')\n",
    "    temp=new.split(\"_!_\")\n",
    "    \n",
    "    if temp[1]=='101':\n",
    "        f_8.write(temp[3]+'\\n')\n",
    "    if temp[1]=='102':\n",
    "        f_6.write(temp[3]+'\\n')\n",
    "    if temp[1]=='103':\n",
    "        f_7.write(temp[3]+'\\n')\n",
    "    if temp[1]=='104':\n",
    "        f_3.write(temp[3]+'\\n')\n",
    "    if temp[1]=='107':\n",
    "        f_5.write(temp[3]+'\\n')\n",
    "    if temp[1]=='113':\n",
    "        f_1.write(temp[3]+'\\n')"
   ]
  },
  {
   "cell_type": "code",
   "execution_count": 13,
   "id": "ca5b284b-5685-4b7c-8da8-712e6e4e1778",
   "metadata": {},
   "outputs": [
    {
     "name": "stdout",
     "output_type": "stream",
     "text": [
      "['中华女子学院：本科层次仅1专业招男生', '3']\n"
     ]
    }
   ],
   "source": [
    "f=open('Data/data_new/train.txt','r',encoding='UTF-8')\n",
    "\n",
    "m=f.readline()\n",
    "m=m.strip('\\n')\n",
    "m=m.split('\\t')\n",
    "print(m)"
   ]
  },
  {
   "cell_type": "code",
   "execution_count": 15,
   "id": "6e6e75a8-5184-4cdb-a348-3f997a5ec83f",
   "metadata": {},
   "outputs": [],
   "source": [
    "f=open('Data/data_new/train.txt','r',encoding='UTF-8')\n",
    "f_w=open('Data/data_new/2.txt','a+',encoding='UTF-8')\n",
    "\n",
    "all_news=f.readlines()\n",
    "\n",
    "for new in all_news:\n",
    "    new=new.strip('\\n')\n",
    "    temp=new.split('\\t')\n",
    "    if temp[1]=='5':\n",
    "        f_w.write(temp[0]+'\\n')\n",
    "    "
   ]
  },
  {
   "cell_type": "code",
   "execution_count": 24,
   "id": "7dc6c496-ca24-4c41-9a92-fe8d485aa00c",
   "metadata": {},
   "outputs": [
    {
     "name": "stdout",
     "output_type": "stream",
     "text": [
      "89 111\n",
      "223\n",
      "10698 13373\n",
      "26747\n",
      "7118 8898\n",
      "17797\n",
      "10767 13459\n",
      "26919\n",
      "63 79\n",
      "158\n",
      "14256 17820\n",
      "35641\n",
      "15711 19639\n",
      "39279\n",
      "14979 18724\n",
      "37449\n",
      "11109 13886\n",
      "27773\n"
     ]
    }
   ],
   "source": [
    "path=\"Data/data_new/\"\n",
    "f_w_1=open(\"Data/data_new/train.txt\",\"a+\",encoding=\"utf-8\")\n",
    "f_w_2=open(\"Data/data_new/dev.txt\",\"a+\",encoding=\"utf-8\")\n",
    "f_w_3=open(\"Data/data_new/test.txt\",\"a+\",encoding=\"utf-8\")\n",
    "\n",
    "for i in range(9):\n",
    "    f_r=open(path+str(i)+\".txt\",\"r\",encoding=\"UTF-8\")\n",
    "    \n",
    "    m=f_r.readlines()\n",
    "    x=int(len(m)*0.4)\n",
    "    y=int(len(m)*0.5)\n",
    "    print(x,y)\n",
    "    print(len(m))\n",
    "    \n",
    "    if (i==0):\n",
    "        for j in range(len(m)):\n",
    "            temp=m[j].strip('\\n')\n",
    "            if j<0.6*len(m):\n",
    "                f_w_1.write(temp+'\\t'+str(i)+'\\n')\n",
    "            if (j>=0.6*len(m) and j<0.85*len(m)):\n",
    "                f_w_2.write(temp+'\\t'+str(i)+'\\n')\n",
    "            elif (j>=0.85*(len(m)) and j<len(m)):\n",
    "                f_w_3.write(temp+'\\t'+str(i)+'\\n')\n",
    "                \n",
    "    if (i==4):\n",
    "        for j in range(len(m)):\n",
    "            temp=m[j].strip('\\n')\n",
    "            if j<0.6*len(m):\n",
    "                f_w_1.write(temp+'\\t'+str(i)+'\\n')\n",
    "            if (j>=0.6*len(m) and j<0.85*len(m)):\n",
    "                f_w_2.write(temp+'\\t'+str(i)+'\\n')\n",
    "            elif (j>=0.85*(len(m)) and j<len(m)):\n",
    "                f_w_3.write(temp+'\\t'+str(i)+'\\n')\n",
    "    else:\n",
    "        for j in range(len(m)):\n",
    "            temp=m[j].strip('\\n')\n",
    "            if j<x:\n",
    "                f_w_1.write(temp+'\\t'+str(i)+'\\n')\n",
    "            if (j>=x and j<y):\n",
    "                f_w_2.write(temp+'\\t'+str(i)+'\\n')\n",
    "            elif (j>=y and j<len(m)*0.6):\n",
    "                f_w_3.write(temp+'\\t'+str(i)+'\\n')\n",
    "    \n",
    "    f_r.close()\n",
    "    \n",
    "f_w_1.close()\n",
    "f_w_2.close()\n",
    "f_w_3.close()"
   ]
  },
  {
   "attachments": {},
   "cell_type": "markdown",
   "id": "2b869bc6-84c4-4025-aba0-bf90786729c9",
   "metadata": {},
   "source": [
    "## 划分数据集"
   ]
  },
  {
   "cell_type": "code",
   "execution_count": 8,
   "id": "53dc2fcc-9f13-4c36-b333-c16c154cce36",
   "metadata": {},
   "outputs": [],
   "source": [
    "path=\"Data/data3/\"\n",
    "f_w_1=open(\"Data/2/train.txt\",\"a+\",encoding=\"utf-8\")\n",
    "f_w_2=open(\"Data/2/dev.txt\",\"a+\",encoding=\"utf-8\")\n",
    "f_w_3=open(\"Data/2/test.txt\",\"a+\",encoding=\"utf-8\")\n",
    "\n",
    "for i in range(8):\n",
    "    f_r=open(path+str(i)+\".txt\",\"r\",encoding=\"UTF-8\")\n",
    "    \n",
    "    m=f_r.readlines()\n",
    "    m_len=len(m)\n",
    "    count=0\n",
    "    \n",
    "\n",
    "    for count in range(int(len(m)/50)):\n",
    "        temp=m[count].strip('\\n')\n",
    "        if (len(temp)>0 ):\n",
    "            x=temp.split('\\t')\n",
    "            if (len(x)==1):\n",
    "                if (count%5==0):\n",
    "                    f_w_2.write(temp+'\\t'+str(i)+'\\n')\n",
    "                elif (count%6==0):\n",
    "                    f_w_3.write(temp+'\\t'+str(i)+'\\n')\n",
    "                else:\n",
    "                    f_w_1.write(temp+'\\t'+str(i)+'\\n')\n",
    "\n",
    "    f_r.close()\n",
    "    \n",
    "f_w_1.close()\n",
    "f_w_2.close()\n",
    "f_w_3.close()"
   ]
  },
  {
   "cell_type": "code",
   "execution_count": 12,
   "id": "9546cf5d-4f49-4815-aac8-cdde4c9dcfd7",
   "metadata": {},
   "outputs": [
    {
     "name": "stdout",
     "output_type": "stream",
     "text": [
      "生态环境部：一季度全国生态环境质量总体持续改善\n",
      "\n",
      "23\n"
     ]
    }
   ],
   "source": [
    "path=\"Data/data_new/\"\n",
    "f_w_1=open(\"Data/data_new/train.txt\",\"a+\",encoding=\"utf-8\")\n",
    "f_w_2=open(\"Data/data_new/dev.txt\",\"a+\",encoding=\"utf-8\")\n",
    "f_w_3=open(\"Data/data_new/test.txt\",\"a+\",encoding=\"utf-8\")\n",
    "\n",
    "f=open(\"Data/data_new/0.txt\",\"r\",encoding=\"utf-8\")\n",
    "m=f.readlines()\n",
    "n=m[1]\n",
    "print(n)\n",
    "print(len(n.strip('\\n')))\n",
    "\n",
    "f_w_1.close()\n",
    "f_w_2.close()\n",
    "f_w_3.close()"
   ]
  },
  {
   "cell_type": "code",
   "execution_count": 11,
   "id": "ccfb03e6-f945-4034-b3df-ef6ba07a2c19",
   "metadata": {},
   "outputs": [
    {
     "name": "stdout",
     "output_type": "stream",
     "text": [
      "['【十年@每一个奋斗的你】内蒙古新型农牧民成“绿领” 致富路上“葱”满希望']\n"
     ]
    }
   ],
   "source": [
    "m=\"【十年@每一个奋斗的你】内蒙古新型农牧民成“绿领” 致富路上“葱”满希望\"\n",
    "n=m.split('\\t')\n",
    "print(n)"
   ]
  },
  {
   "attachments": {},
   "cell_type": "markdown",
   "id": "5f7ab07e-e79b-402a-8fd3-c1dab46b2cf4",
   "metadata": {},
   "source": []
  },
  {
   "cell_type": "code",
   "execution_count": 21,
   "id": "4435c8cc-2a2f-45af-9cef-4cd9875356d0",
   "metadata": {},
   "outputs": [],
   "source": [
    "f_r=open(\"test_5.txt\",\"r\",encoding=\"utf-8\")\n",
    "f_w=open(\"result.txt\",\"w\",encoding=\"utf-8\")\n",
    "\n",
    "m=f_r.readlines()\n",
    "for i in m:\n",
    "    n=i.strip('\\n')\n",
    "    L=n.split('\\t')\n",
    "    f_w.write(L[0]+'\\t'+'\\n')\n",
    "    \n",
    "f_r.close()\n",
    "f_w.close()"
   ]
  },
  {
   "attachments": {},
   "cell_type": "markdown",
   "id": "6491822b-8776-45e7-ae21-b61dfee3e0f6",
   "metadata": {},
   "source": [
    "## 画图"
   ]
  },
  {
   "cell_type": "code",
   "execution_count": 2,
   "id": "92ac875e-39dd-4e9f-a1a1-3558a7c7e063",
   "metadata": {},
   "outputs": [],
   "source": [
    "import numpy as np\n",
    "import matplotlib.pyplot as plt\n",
    " \n",
    "x = [1, 2, 3, 4, 5,6]\n",
    "# data = [[1, 2, 3, 4, 5, 6],\n",
    "#         [2, 4, 6, 8, 10, 12],\n",
    "#         [1, 3, 5, 7, 9, 11],\n",
    "#         [1.1, 2.2, 3.3, 4.4, 5.5, 6.6],\n",
    "#         [3, 6, 9, 12, 15, 18],\n",
    "#         [4, 8, 12, 16, 20, 24],\n",
    "#         [5, 10, 15, 20, 25, 30],\n",
    "#         [1.5, 2.5, 3.5, 4.5, 5.5, 6.5],\n",
    "#         [1, 4, 7, 10, 13, 16],\n",
    "#         [2, 5, 8, 11, 14, 17]]\n",
    "y = [0.393,0.583,0.703,0.802,0.820,0.822]\n",
    " \n",
    " \n",
    "# 绘制图形\n",
    "plt.plot(x, y, linewidth=1, color=\"orange\", marker=\"o\",label=\"Mean value\")\n",
    "# 算标准差\n",
    "# yTop = [y[i] + np.std(data[i]) for i in range(len(data))]\n",
    "# yBottom = [y[i] - np.std(data[i]) for i in range(len(data))]\n",
    "# plt.fill_between(x, yTop, yBottom ,color=\"lightgreen\",label=\"Standard deviation\")#填充色块\n",
    "# # 设置横纵坐标\n",
    "plt.xticks([1, 2, 3, 4, 5,6],['2%','5%','10%', '20%', '50%', '100%'])\n",
    "plt.yticks([0, 0.2, 0.4, 0.6, 0.8, 1.0])\n",
    "plt.legend([\"F1-score\"],loc=\"upper left\")#设置线条标识\n",
    "plt.grid()  # 设置网格模式\n",
    "#设置每个点上的数值\n",
    "# for i in range(10):\n",
    "#         plt.text(x[i], y[i], y[i], fontsize=12, color=\"black\", style=\"italic\", weight=\"light\", verticalalignment='center',horizontalalignment='right', rotation=90)\n",
    "# plt.show()\n",
    "\n",
    "plt.savefig('graph.jpg')"
   ]
  },
  {
   "cell_type": "code",
   "execution_count": null,
   "id": "1e4d8d4f-efb7-4433-b59d-02656dd29eb2",
   "metadata": {},
   "outputs": [],
   "source": []
  }
 ],
 "metadata": {
  "kernelspec": {
   "display_name": "Python 3 (ipykernel)",
   "language": "python",
   "name": "python3"
  },
  "language_info": {
   "codemirror_mode": {
    "name": "ipython",
    "version": 3
   },
   "file_extension": ".py",
   "mimetype": "text/x-python",
   "name": "python",
   "nbconvert_exporter": "python",
   "pygments_lexer": "ipython3",
   "version": "3.7.7"
  }
 },
 "nbformat": 4,
 "nbformat_minor": 5
}
